{
  "nbformat": 4,
  "nbformat_minor": 0,
  "metadata": {
    "colab": {
      "provenance": []
    },
    "kernelspec": {
      "name": "python3",
      "display_name": "Python 3"
    },
    "language_info": {
      "name": "python"
    }
  },
  "cells": [
    {
      "cell_type": "code",
      "execution_count": 75,
      "metadata": {
        "id": "qhRyJTWfyvCT"
      },
      "outputs": [],
      "source": [
        "# Importações das bibliotecas do PySpark\n",
        "from pyspark.sql import SparkSession, DataFrame\n",
        "from pyspark.sql.functions import substring, col, sum, count, lpad, round\n",
        "from typing import Tuple\n",
        "from pyspark.sql.types import DoubleType"
      ]
    },
    {
      "cell_type": "code",
      "source": [
        "# Inicia ou obtém uma sessão Spark existente\n",
        "spark = SparkSession.builder \\\n",
        "    .appName(\"PipelineSimplesETL\") \\\n",
        "    .getOrCreate()\n",
        "\n",
        "print(\"Sessão Spark iniciada com sucesso.\")"
      ],
      "metadata": {
        "colab": {
          "base_uri": "https://localhost:8080/"
        },
        "id": "YkQGjg3ZzPio",
        "outputId": "6f411064-40b5-4ff8-c8f0-3f0a6c1dcc74"
      },
      "execution_count": 76,
      "outputs": [
        {
          "output_type": "stream",
          "name": "stdout",
          "text": [
            "Sessão Spark iniciada com sucesso.\n"
          ]
        }
      ]
    },
    {
      "cell_type": "code",
      "source": [
        "# Define o caminho de entrada dos arquivos\n",
        "caminho_clientes = '/content/dados/clientes.txt'\n",
        "caminho_vendas = '/content/dados/vendas.csv'\n",
        "\n",
        "# Define o caminho de saida dos arquivos\n",
        "caminho_saida_resumo = '/content/dados/Saida/resumo_clientes'\n",
        "caminho_saida_balanco = '/content/dados/Saida/balanco_produtos'"
      ],
      "metadata": {
        "id": "UB0j5OUq0gqe"
      },
      "execution_count": 77,
      "outputs": []
    },
    {
      "cell_type": "markdown",
      "source": [
        "# 1. Cria funções de execução do pipeline\n",
        "\n",
        "\n"
      ],
      "metadata": {
        "id": "R_9mPSSk1VjY"
      }
    },
    {
      "cell_type": "code",
      "source": [
        "#------------------------------------------#\n",
        "# Lê o arquivo de CLIENTES no formato CSV.\n",
        "#------------------------------------------#\n",
        "def carrega_dados_clientes(caminho: str) -> DataFrame:\n",
        "    \"\"\"Lê o arquivo de clientes no formato CSV.\"\"\"\n",
        "    print(f\"Lendo dados de clientes de: {caminho}\")\n",
        "    return spark.read.csv(caminho, header=True, sep=',')\n",
        "\n",
        "#-------------------------------------------#\n",
        "# Lê o arquivo de VENDAS como texto bruto.\n",
        "#-------------------------------------------#\n",
        "def carrega_dados_vendas_raw(caminho: str) -> DataFrame:\n",
        "    \"\"\"Lê o arquivo de vendas como texto bruto.\"\"\"\n",
        "    print(f\"Lendo dados brutos de vendas de: {caminho}\")\n",
        "    return spark.read.csv(caminho)\n",
        "\n",
        "#--------------------------------------------------------#\n",
        "# Extrai os campos do arquivo de VENDAS de largura fixa.\n",
        "#--------------------------------------------------------#\n",
        "def transformar_vendas(df_vendas_raw: DataFrame) -> DataFrame:\n",
        "    \"\"\"Extrai os campos do arquivo de vendas de largura fixa.\"\"\"\n",
        "    print(\"Transformando dados brutos de vendas em colunas.\")\n",
        "    vendas_estruturadas = df_vendas_raw.select(\n",
        "        substring(col(\"_c0\"), 6, 5).alias(\"venda_id\"),\n",
        "        substring(col(\"_c0\"), 1, 5).alias(\"cliente_id\"),\n",
        "        substring(col(\"_c0\"), 11, 5).alias(\"produto_id\"),\n",
        "        substring(col(\"_c0\"), 16, 8).alias(\"valor\"),\n",
        "        substring(col(\"_c0\"), 24, 8).alias(\"data_venda\")\n",
        "    )\n",
        "    return vendas_estruturadas\n",
        "\n",
        "\n",
        "#-------------------------------------------#\n",
        "# Prepara os DataFrames para a junção (join)\n",
        "#-------------------------------------------#\n",
        "def preparar_dados_para_join(df_clientes: DataFrame, df_vendas: DataFrame) -> Tuple[DataFrame, DataFrame]:\n",
        "    \"\"\"Prepara os DataFrames para a junção (join).\"\"\"\n",
        "    print(\"Padronizando chaves e convertendo tipos de dados.\")\n",
        "    clientes_ajustado = df_clientes.withColumn(\"cliente_id\", lpad(col(\"cliente_id\"), 5, \"0\"))\n",
        "    vendas_ajustado = df_vendas.withColumn(\"valor_numeric\", (col(\"valor\").cast(DoubleType()) / 100))\n",
        "    return clientes_ajustado, vendas_ajustado\n",
        "\n",
        "#--------------------------------------------#\n",
        "# Calcula as métricas de vendas por cliente.\n",
        "#--------------------------------------------#\n",
        "def calcula_resumo_por_cliente(df_juncao: DataFrame) -> DataFrame:\n",
        "    \"\"\"Calcula as métricas de vendas por cliente.\"\"\"\n",
        "    print(\"Calculando o resumo de vendas por cliente.\")\n",
        "    resumo = df_juncao.groupBy(\"cliente_id\", \"nome\").agg(\n",
        "        sum(\"valor_numeric\").alias(\"total_vendas\"),\n",
        "        count(\"venda_id\").alias(\"quantidade_vendas\"),\n",
        "        round(sum(\"valor_numeric\") / count(\"venda_id\"), 2).alias(\"ticket_medio\")\n",
        "    )\n",
        "    return resumo\n",
        "\n",
        "#--------------------------------------------#\n",
        "# Calcula as métricas de vendas por produto.\n",
        "#--------------------------------------------#\n",
        "def calcula_balanco_por_produto(df_juncao: DataFrame) -> DataFrame:\n",
        "    \"\"\"Calcula as métricas de vendas por produto.\"\"\"\n",
        "    print(\"Calculando o balanço de vendas por produto.\")\n",
        "    balanco = df_juncao.groupBy(\"produto_id\").agg(\n",
        "        sum(\"valor_numeric\").alias(\"total_vendas_produto\"),\n",
        "        count(\"venda_id\").alias(\"quantidade_vendas_produto\"),\n",
        "        round(sum(\"valor_numeric\") / count(\"venda_id\"), 2).alias(\"ticket_medio_produto\")\n",
        "    )\n",
        "    return balanco\n",
        "#-----------------------------------------------------------#\n",
        "# Salva um DataFrame em um único arquivo CSV com cabeçalho.\n",
        "#-----------------------------------------------------------#\n",
        "def carregar_dados_csv(df: DataFrame, caminho_saida: str) -> None:\n",
        "    \"\"\"Salva um DataFrame em um único arquivo CSV com cabeçalho.\"\"\"\n",
        "    print(f\"Salvando dados em: {caminho_saida}\")\n",
        "    df.coalesce(1).write.mode(\"overwrite\").option(\"header\", \"true\").csv(caminho_saida)\n",
        "    print(\"Dados salvos com sucesso!\")"
      ],
      "metadata": {
        "id": "dTWMHbg30mhP"
      },
      "execution_count": 78,
      "outputs": []
    },
    {
      "cell_type": "markdown",
      "source": [
        "# 2. Executa as funções do pipeline"
      ],
      "metadata": {
        "id": "H_Jo7uuZR078"
      }
    },
    {
      "cell_type": "code",
      "source": [
        "try:\n",
        "    # 1. Leitura de dados bruto\n",
        "    df_clientes_raw = carrega_dados_clientes(caminho_clientes)\n",
        "    df_vendas_raw = carrega_dados_vendas_raw(caminho_vendas)\n",
        "\n",
        "    # 2. Transformação dos dados brutos\n",
        "    df_vendas_estruturado = transformar_vendas(df_vendas_raw)\n",
        "    df_clientes_pronto, df_vendas_pronto = preparar_dados_para_join(df_clientes_raw, df_vendas_estruturado)\n",
        "\n",
        "    # Junção dos dados de cliente com a base de vendas\n",
        "    print(\"Juntando dados de clientes e vendas.\")\n",
        "    df_juncao_completa = df_vendas_pronto.join(df_clientes_pronto, \"cliente_id\", \"inner\")\n",
        "\n",
        "    # Gera as saidas com as agregações\n",
        "    resumo_clientes = calcula_resumo_por_cliente(df_juncao_completa)\n",
        "    balanco_produtos = calcula_balanco_por_produto(df_juncao_completa)\n",
        "\n",
        "    # Exibe os resultados na tela\n",
        "    print(\"\\n--- Resultado: Resumo por Cliente ---\")\n",
        "    resumo_clientes.show()\n",
        "\n",
        "    print(\"\\n--- Resultado: Balanço por Produto ---\")\n",
        "    balanco_produtos.show()\n",
        "\n",
        "    # Extrai os resumos por Cliente e Produto.\n",
        "    carregar_dados_csv(resumo_clientes, caminho_saida_resumo)\n",
        "    carregar_dados_csv(balanco_produtos, caminho_saida_balanco)\n",
        "\n",
        "except Exception as e:\n",
        "    print(f\"\\nOcorreu um erro durante a execução do pipeline: {e}\")"
      ],
      "metadata": {
        "colab": {
          "base_uri": "https://localhost:8080/"
        },
        "id": "-mJtFLQN1HOH",
        "outputId": "d9ce5dc5-2a9b-48e8-aaa5-6cc9a26f6b6c"
      },
      "execution_count": 79,
      "outputs": [
        {
          "output_type": "stream",
          "name": "stdout",
          "text": [
            "Lendo dados de clientes de: /content/dados/clientes.txt\n",
            "Lendo dados brutos de vendas de: /content/dados/vendas.csv\n",
            "Transformando dados brutos de vendas em colunas.\n",
            "Padronizando chaves e convertendo tipos de dados.\n",
            "Juntando dados de clientes e vendas.\n",
            "Calculando o resumo de vendas por cliente.\n",
            "Calculando o balanço de vendas por produto.\n",
            "\n",
            "--- Resultado: Resumo por Cliente ---\n",
            "+----------+-----------+------------+-----------------+------------+\n",
            "|cliente_id|       nome|total_vendas|quantidade_vendas|ticket_medio|\n",
            "+----------+-----------+------------+-----------------+------------+\n",
            "|     00001| João Silva|    613810.1|                5|   122762.02|\n",
            "|     00002|Maria Souza|   360006.06|                3|   120002.02|\n",
            "+----------+-----------+------------+-----------------+------------+\n",
            "\n",
            "\n",
            "--- Resultado: Balanço por Produto ---\n",
            "+----------+--------------------+-------------------------+--------------------+\n",
            "|produto_id|total_vendas_produto|quantidade_vendas_produto|ticket_medio_produto|\n",
            "+----------+--------------------+-------------------------+--------------------+\n",
            "|     00004|           120002.02|                        1|           120002.02|\n",
            "|     00001|           243454.04|                        2|           121727.02|\n",
            "|     00003|           246904.04|                        2|           123452.02|\n",
            "|     00002|           363456.06|                        3|           121152.02|\n",
            "+----------+--------------------+-------------------------+--------------------+\n",
            "\n",
            "Salvando dados em: /content/dados/Saida/resumo_clientes\n",
            "Dados salvos com sucesso!\n",
            "Salvando dados em: /content/dados/Saida/balanco_produtos\n",
            "Dados salvos com sucesso!\n"
          ]
        }
      ]
    }
  ]
}